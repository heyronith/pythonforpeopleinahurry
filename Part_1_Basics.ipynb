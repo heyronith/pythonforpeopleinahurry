{
  "nbformat": 4,
  "nbformat_minor": 0,
  "metadata": {
    "colab": {
      "provenance": [],
      "authorship_tag": "ABX9TyPgtr4JUuIo59HOELwvsgUo",
      "include_colab_link": true
    },
    "kernelspec": {
      "name": "python3",
      "display_name": "Python 3"
    },
    "language_info": {
      "name": "python"
    }
  },
  "cells": [
    {
      "cell_type": "markdown",
      "metadata": {
        "id": "view-in-github",
        "colab_type": "text"
      },
      "source": [
        "<a href=\"https://colab.research.google.com/github/heyronith/pythonforpeopleinahurry/blob/main/Part_1_Basics.ipynb\" target=\"_parent\"><img src=\"https://colab.research.google.com/assets/colab-badge.svg\" alt=\"Open In Colab\"/></a>"
      ]
    },
    {
      "cell_type": "markdown",
      "source": [
        "\n",
        "# Python for Data Science : Part 1/5\n",
        " 1.   *Basic Syntax and Printing* : Simple print statements, Print with Formating\n",
        "\n",
        " 2. Variables and Data Types: Integer, Float, String, Boolean\n",
        " 3. Data Structures: List, Tuple, Set, Dictionary\n",
        " 4. Control Flow: If-elif-else statement, For Loop, While Loop\n",
        " 5. Functions\n",
        " 6.List Comprehension & Basic Error handling\n",
        "\n",
        "\n",
        "\n"
      ],
      "metadata": {
        "id": "58wAkzoWmHT-"
      }
    },
    {
      "cell_type": "markdown",
      "source": [
        "# 1.Basic Syntax and Printing"
      ],
      "metadata": {
        "id": "o0mx5KbxnszL"
      }
    },
    {
      "cell_type": "code",
      "source": [
        "# Simple print statement\n",
        "print(\"Hello, World!\")\n",
        "\n",
        "# Print multiple items\n",
        "print(\"Hello\", \"World\", \"from\", \"Python\")"
      ],
      "metadata": {
        "id": "7Dsdpi33nzIm"
      },
      "execution_count": null,
      "outputs": []
    },
    {
      "cell_type": "code",
      "source": [
        "# Print with formatting\n",
        "name = \"Alice\"\n",
        "age = 30\n",
        "print(f\"{name} is {age} years old\")  # f-string (Python 3.6+)\n",
        "print(\"{} is {} years old\".format(name, age))  # .format() method\n",
        "print(\"%s is %d years old\" % (name, age))  # %-formatting (older style)"
      ],
      "metadata": {
        "id": "Z-P4_DyIn1UO"
      },
      "execution_count": null,
      "outputs": []
    },
    {
      "cell_type": "markdown",
      "source": [
        "# 2.Variables and Data Types"
      ],
      "metadata": {
        "id": "QkYycb9_n68j"
      }
    },
    {
      "cell_type": "code",
      "source": [
        "# Integer\n",
        "count = 10\n",
        "print(f\"Count: {count}, Type: {type(count)}\")\n"
      ],
      "metadata": {
        "id": "8P2IzWutn_zA"
      },
      "execution_count": null,
      "outputs": []
    },
    {
      "cell_type": "code",
      "source": [
        "# Float\n",
        "pi = 3.14159\n",
        "print(f\"Pi: {pi:.2f}, Type: {type(pi)}\")  # .2f limits to 2 decimal places\n"
      ],
      "metadata": {
        "id": "krQCJOhGoDRH"
      },
      "execution_count": null,
      "outputs": []
    },
    {
      "cell_type": "code",
      "source": [
        "# String\n",
        "greeting = \"Hello, Python!\"\n",
        "print(f\"Greeting: {greeting}, Type: {type(greeting)}\")"
      ],
      "metadata": {
        "id": "eJVt94VHoDVB"
      },
      "execution_count": null,
      "outputs": []
    },
    {
      "cell_type": "code",
      "source": [
        "# Boolean\n",
        "is_python_fun = True\n",
        "print(f\"Is Python fun? {is_python_fun}, Type: {type(is_python_fun)}\")"
      ],
      "metadata": {
        "id": "tuAO-dekoDZG"
      },
      "execution_count": null,
      "outputs": []
    },
    {
      "cell_type": "markdown",
      "source": [
        "# 3.Data Structures"
      ],
      "metadata": {
        "id": "gGP8QCTBoQ0X"
      }
    },
    {
      "cell_type": "code",
      "source": [
        "# List\n",
        "fruits = [\"apple\", \"banana\", \"cherry\"]\n",
        "print(f\"Fruits: {fruits}, Type: {type(fruits)}\")\n",
        "print(f\"First fruit: {fruits[0]}\")\n",
        "fruits.append(\"date\")\n",
        "print(f\"Updated fruits: {fruits}\")"
      ],
      "metadata": {
        "id": "r5TDEKwSoYhz"
      },
      "execution_count": null,
      "outputs": []
    },
    {
      "cell_type": "code",
      "source": [
        "# Tuple\n",
        "coordinates = (10, 20)\n",
        "print(f\"Coordinates: {coordinates}, Type: {type(coordinates)}\")\n",
        "# coordinates[0] = 15  # This would raise an error as tuples are immutable"
      ],
      "metadata": {
        "id": "J83bnqn9oYq-"
      },
      "execution_count": null,
      "outputs": []
    },
    {
      "cell_type": "code",
      "source": [
        "# Set\n",
        "unique_numbers = {1, 2, 3, 3, 4, 4, 5}\n",
        "print(f\"Unique numbers: {unique_numbers}, Type: {type(unique_numbers)}\")"
      ],
      "metadata": {
        "id": "mEB6EuvGoY7U"
      },
      "execution_count": null,
      "outputs": []
    },
    {
      "cell_type": "code",
      "source": [
        "# Dictionary\n",
        "person = {\"name\": \"Bob\", \"age\": 25, \"city\": \"New York\"}\n",
        "print(f\"Person: {person}, Type: {type(person)}\")\n",
        "print(f\"Name: {person['name']}\")"
      ],
      "metadata": {
        "id": "EgWq7o8Ioeo_"
      },
      "execution_count": null,
      "outputs": []
    },
    {
      "cell_type": "code",
      "source": [
        "# Stack (using list)\n",
        "stack = []\n",
        "stack.append(1)\n",
        "stack.append(2)\n",
        "print(\"Stack:\", stack)\n",
        "print(\"Popped:\", stack.pop())\n"
      ],
      "metadata": {
        "id": "8ff5AaxorTlI"
      },
      "execution_count": null,
      "outputs": []
    },
    {
      "cell_type": "code",
      "source": [
        "from collections import deque\n",
        "queue = deque()\n",
        "queue.append(1)\n",
        "queue.append(2)\n",
        "print(\"Queue:\", queue)\n",
        "print(\"Dequeued:\", queue.popleft())"
      ],
      "metadata": {
        "id": "IRXeUCMzrVyW"
      },
      "execution_count": null,
      "outputs": []
    },
    {
      "cell_type": "markdown",
      "source": [
        "# 4. Control Flow"
      ],
      "metadata": {
        "id": "ymaRo3FxoiPu"
      }
    },
    {
      "cell_type": "code",
      "source": [
        "# If-elif-else statement\n",
        "x = 10\n",
        "if x > 0:\n",
        "    print(\"x is positive\")\n",
        "elif x < 0:\n",
        "    print(\"x is negative\")\n",
        "else:\n",
        "    print(\"x is zero\")"
      ],
      "metadata": {
        "colab": {
          "base_uri": "https://localhost:8080/"
        },
        "id": "ow9xATk0opKo",
        "outputId": "a202b94d-c7f2-4406-9001-257b88f67d12"
      },
      "execution_count": 4,
      "outputs": [
        {
          "output_type": "stream",
          "name": "stdout",
          "text": [
            "x is positive\n"
          ]
        }
      ]
    },
    {
      "cell_type": "code",
      "source": [
        "# For loop\n",
        "for fruit in fruits:\n",
        "    print(f\"I like {fruit}\")\n"
      ],
      "metadata": {
        "id": "qUb6xiPhoqGq"
      },
      "execution_count": null,
      "outputs": []
    },
    {
      "cell_type": "code",
      "source": [
        "# While loop\n",
        "count = 3\n",
        "while count > 0:\n",
        "    print(f\"Countdown: {count}\")\n",
        "    count -= 1"
      ],
      "metadata": {
        "id": "MjF2jyOwoqKa"
      },
      "execution_count": null,
      "outputs": []
    },
    {
      "cell_type": "code",
      "source": [
        "# Try-except block\n",
        "try:\n",
        "    result = 10 / 0\n",
        "except ZeroDivisionError:\n",
        "    print(\"Cannot divide by zero!\")\n",
        "finally:\n",
        "    print(\"This always executes\")"
      ],
      "metadata": {
        "colab": {
          "base_uri": "https://localhost:8080/"
        },
        "id": "BaHWafBgrgVR",
        "outputId": "c9df1f22-e7b4-437a-ab0d-67f935ea9ab8"
      },
      "execution_count": 8,
      "outputs": [
        {
          "output_type": "stream",
          "name": "stdout",
          "text": [
            "Cannot divide by zero!\n",
            "This always executes\n"
          ]
        }
      ]
    },
    {
      "cell_type": "markdown",
      "source": [
        "# 5.Functions\n",
        "\n"
      ],
      "metadata": {
        "id": "dTKTDkrSo4l6"
      }
    },
    {
      "cell_type": "code",
      "source": [
        "def greet(name, greeting=\"Hello\"):\n",
        "    \"\"\"\n",
        "    This function greets a person with a custom greeting.\n",
        "    If no greeting is provided, it defaults to \"Hello\".\n",
        "    \"\"\"\n",
        "    return f\"{greeting}, {name}!\"\n",
        "\n",
        "\n",
        "print(greet(\"Charlie\"))\n",
        "print(greet(\"David\", \"Good morning\"))"
      ],
      "metadata": {
        "id": "nKFkekj0o-z1"
      },
      "execution_count": null,
      "outputs": []
    },
    {
      "cell_type": "code",
      "source": [
        "# Function with default parameters\n",
        "def power(base, exponent=2):\n",
        "    return base ** exponent\n",
        "\n",
        "\n",
        "print(power(3,3))  # Output: 9\n"
      ],
      "metadata": {
        "colab": {
          "base_uri": "https://localhost:8080/"
        },
        "id": "K5_L8FZTpO1k",
        "outputId": "f7fcd0ba-4d61-4d0a-a758-7197c0d1368c"
      },
      "execution_count": 10,
      "outputs": [
        {
          "output_type": "stream",
          "name": "stdout",
          "text": [
            "27\n"
          ]
        }
      ]
    },
    {
      "cell_type": "code",
      "source": [
        "\n",
        "# Lambda function (anonymous function)\n",
        "square = lambda x: x ** 2\n",
        "\n",
        "print(square(3))  # Output: 16"
      ],
      "metadata": {
        "colab": {
          "base_uri": "https://localhost:8080/"
        },
        "id": "rf-_q5oNpRzo",
        "outputId": "8bd293d6-ee7e-4776-b8ab-03940725929b"
      },
      "execution_count": 12,
      "outputs": [
        {
          "output_type": "stream",
          "name": "stdout",
          "text": [
            "9\n"
          ]
        }
      ]
    },
    {
      "cell_type": "code",
      "source": [
        "# Function with *args (variable number of arguments)\n",
        "def sum_all(*args):\n",
        "    return sum(args)\n",
        "\n",
        "print(sum_all(1, 2, 3, 4))  # Output: 10"
      ],
      "metadata": {
        "colab": {
          "base_uri": "https://localhost:8080/"
        },
        "id": "2dmymfcksKdB",
        "outputId": "6ea1c257-0d6d-4114-8123-988df89fde06"
      },
      "execution_count": 14,
      "outputs": [
        {
          "output_type": "stream",
          "name": "stdout",
          "text": [
            "10\n"
          ]
        }
      ]
    },
    {
      "cell_type": "code",
      "source": [
        "def print_info(**kwargs):\n",
        "    for key, value in kwargs.items():\n",
        "        print(f\"{key}: {value}\")\n",
        "\n",
        "print_info(name=\"Bob\", age=30, city=\"New York\")"
      ],
      "metadata": {
        "id": "85M4uCgIsKX6"
      },
      "execution_count": null,
      "outputs": []
    },
    {
      "cell_type": "code",
      "source": [
        "# Generator function\n",
        "def countdown(n):\n",
        "    while n > 0:\n",
        "        yield n\n",
        "        n -= 1\n",
        "\n",
        "for num in countdown(3):\n",
        "    print(num)  # Output: 3, 2, 1"
      ],
      "metadata": {
        "colab": {
          "base_uri": "https://localhost:8080/"
        },
        "id": "SwldyZGusJ5J",
        "outputId": "78267e1d-90b9-48c3-d5f7-a5fee3e64b68"
      },
      "execution_count": 15,
      "outputs": [
        {
          "output_type": "stream",
          "name": "stdout",
          "text": [
            "3\n",
            "2\n",
            "1\n"
          ]
        }
      ]
    },
    {
      "cell_type": "markdown",
      "source": [
        "#6.List Comprehension"
      ],
      "metadata": {
        "id": "ZbMKjG9yr2yF"
      }
    },
    {
      "cell_type": "code",
      "source": [
        "#Basic List Comprehension\n",
        "\n",
        "squares = [x**2 for x in range(5)]\n",
        "print(f\"Squares: {squares}\")\n",
        "\n",
        "print(\"Squares:\", squares)"
      ],
      "metadata": {
        "id": "AaHjt30cr4QB"
      },
      "execution_count": null,
      "outputs": []
    },
    {
      "cell_type": "code",
      "source": [
        "# List comprehension with condition\n",
        "even_squares = [x**2 for x in range(10) if x % 2 == 0]\n",
        "\n",
        "print(\"Even squares:\", even_squares)"
      ],
      "metadata": {
        "id": "dFYiYt1mr6Vp"
      },
      "execution_count": null,
      "outputs": []
    },
    {
      "cell_type": "code",
      "source": [
        "# Nested list comprehension\n",
        "matrix = [[i*j for j in range(3)] for i in range(3)]\n",
        "\n",
        "print(\"Matrix:\", matrix)"
      ],
      "metadata": {
        "id": "bMMeGX8Ur6Pa"
      },
      "execution_count": null,
      "outputs": []
    }
  ]
}